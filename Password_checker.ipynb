{
  "nbformat": 4,
  "nbformat_minor": 0,
  "metadata": {
    "colab": {
      "provenance": [],
      "include_colab_link": true
    },
    "kernelspec": {
      "name": "python3",
      "display_name": "Python 3"
    },
    "language_info": {
      "name": "python"
    }
  },
  "cells": [
    {
      "cell_type": "markdown",
      "metadata": {
        "id": "view-in-github",
        "colab_type": "text"
      },
      "source": [
        "<a href=\"https://colab.research.google.com/github/ThierryFotabong/Python-projects/blob/main/Password_checker.ipynb\" target=\"_parent\"><img src=\"https://colab.research.google.com/assets/colab-badge.svg\" alt=\"Open In Colab\"/></a>"
      ]
    },
    {
      "cell_type": "code",
      "execution_count": null,
      "metadata": {
        "colab": {
          "base_uri": "https://localhost:8080/"
        },
        "id": "3w5NFI19_HA2",
        "outputId": "3be64aef-cb1a-417a-d984-fb720be5e72b"
      },
      "outputs": [
        {
          "output_type": "stream",
          "name": "stdout",
          "text": [
            "Enter Password\n"
          ]
        }
      ],
      "source": [
        "password = []\n",
        "special_char = ['!','@', '#', '$', '%', '&', '*']\n",
        "numbers = ['0', '1', '2', '3', '4', '5', '6', '7', '8', '9']\n",
        "print(\"Enter Password\")\n",
        "password = input()\n",
        "if len(password) < 6:\n",
        "  print(\"weak\")\n",
        "else:\n",
        "    check = any(k in password for k in special_char)\n",
        "    check = any(j in password for j in special_char)\n",
        "    if check:\n",
        "      check = any(a in password for a in numbers)\n",
        "      check = any(b in password for b in numbers)\n",
        "      if check:\n",
        "        print(\"Strong\")\n",
        "      else:\n",
        "        print(\"Weak\")"
      ]
    },
    {
      "cell_type": "code",
      "source": [],
      "metadata": {
        "id": "IPjBmi5zQbkl"
      },
      "execution_count": null,
      "outputs": []
    }
  ]
}